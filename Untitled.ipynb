{
 "cells": [
  {
   "cell_type": "code",
   "execution_count": 2,
   "id": "4c0753a5",
   "metadata": {},
   "outputs": [],
   "source": []
  },
  {
   "cell_type": "code",
   "execution_count": 58,
   "id": "e482656b",
   "metadata": {},
   "outputs": [
    {
     "name": "stdout",
     "output_type": "stream",
     "text": [
      "['ahmed@gmail.com', 'Ali@gmail.com', 'omarH@gmail.com', 'Ebra@gmail.com', 'jo321@gmail.com']\n",
      "['01023456789', '01232235323', '01002982706', '01232524233', '01123234232']\n",
      "['Ahmed Hafez', 'Ali Osama', 'Omar Youssef', 'Ali Ebrahim', 'Yousef Hamid']\n"
     ]
    }
   ],
   "source": [
    "import re\n",
    "r = open(\"m.txt\" , 'r')\n",
    "cont = r.read()\n",
    "numbers = re.compile(r\"01\\d{9}\")\n",
    "nums = numbers.finditer(cont)\n",
    "names = re.compile(r\"[A-Z][a-z]+\\s[A-Z][a-z]+\")\n",
    "n = names.finditer(cont)\n",
    "emails = re.compile(\"\\w+@\\w+\\.\\w{3,}\")\n",
    "em = emails.finditer(cont)\n",
    "Phone_numbers = []\n",
    "Name = []\n",
    "emails = []\n",
    "for i in nums:\n",
    "    Phone_numbers.append((cont[i.span()[0] : i.span()[1]]))\n",
    "for x in n:\n",
    "    Name.append((cont[x.span()[0] : x.span()[1]]))\n",
    "for v in em:\n",
    "    emails.append((cont[v.span()[0] : v.span()[1]]))\n",
    "r.close()\n",
    "print(emails)\n",
    "print(Phone_numbers)\n",
    "print(Name)"
   ]
  },
  {
   "cell_type": "code",
   "execution_count": null,
   "id": "38f9c157",
   "metadata": {},
   "outputs": [],
   "source": []
  }
 ],
 "metadata": {
  "kernelspec": {
   "display_name": "Python 3 (ipykernel)",
   "language": "python",
   "name": "python3"
  },
  "language_info": {
   "codemirror_mode": {
    "name": "ipython",
    "version": 3
   },
   "file_extension": ".py",
   "mimetype": "text/x-python",
   "name": "python",
   "nbconvert_exporter": "python",
   "pygments_lexer": "ipython3",
   "version": "3.11.3"
  }
 },
 "nbformat": 4,
 "nbformat_minor": 5
}
