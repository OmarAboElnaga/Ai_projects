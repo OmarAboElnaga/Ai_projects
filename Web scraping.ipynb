{
 "cells": [
  {
   "cell_type": "code",
   "execution_count": null,
   "id": "418af882",
   "metadata": {},
   "outputs": [],
   "source": [
    "import requests\n",
    "from bs4 import BeautifulSoup\n",
    "Books = []\n",
    "for i in range(1,51):\n",
    "    url =f'https://books.toscrape.com/catalogue/page-{i}.html'\n",
    "    response  = requests.get(url)\n",
    "    html_contents = response.content\n",
    "    soup = BeautifulSoup(html_contents , \"html.parser\")\n",
    "    books = soup.find_all(\"li\" , class_ = \"col-xs-6 col-sm-4 col-md-3 col-lg-3\")\n",
    "    for i in range (len(books)):\n",
    "        Name = books[i].find(\"img\").attrs[\"alt\"]\n",
    "        price = books[i].find(\"p\",{\"class\":\"price_color\"}).text.strip()\n",
    "        Availability = books[i].find(\"p\",{\"class\":\"instock availability\"}).text.strip()\n",
    "        stars  = books[i].find(\"p\")[\"class\"][1]\n",
    "        print(f\"Name : {Name} , Price : {price} , Availability : {Availability} , Number of stars : {stars}\")"
   ]
  },
  {
   "cell_type": "code",
   "execution_count": null,
   "id": "8902655c",
   "metadata": {},
   "outputs": [],
   "source": [
    "import requests\n",
    "from bs4 import BeautifulSoup\n",
    "\n",
    "url = \"https://www.yallakora.com/match-center/مركز-المباريات?date=8/28/2023#\"\n",
    "response = requests.get(url)\n",
    "html_contents = response.content\n",
    "soup = BeautifulSoup( html_contents ,'html.parser')\n",
    "championships = soup.find_all('div',  class_='matchCard')\n",
    "#title = championships[2].contents[1].find(\"h2\")\n",
    "#print(f\"Title: {title.text.strip()}\")\n",
    "for x in range(len(championships)):\n",
    "    matches = championships[x].contents[3].find_all(\"li\")\n",
    "    for i in range(len(matches)):\n",
    " #   Teama = matches[i].find(\"div\" , {\"class\" : \"teams teamA\"}).text.strip()\n",
    "  #  Teamb = matches[i].find(\"div\" , {\"class\" : \"teams teamB\"}).text.strip()\n",
    "   # score  = matches[i].find(\"div\" , {\"class\" : \"MResult\"}).find_all(\"span\" , {\"class\" : \"score\"} )\n",
    "   # time = matches[i].find_all(\"span\" , {\"class\" : \"time\"} )\n",
    "    #print(f\"{Teama} : {Teamb}\")\n",
    "   # print(f\"{score[0].text.strip()} - {score[1].text.strip()}\")\n",
    "  #  print(time[0].text.strip())\n",
    "        try:\n",
    "            channels = matches[i].find(\"div\"  , {\"class\" : \"channel icon-channel\"}).text.strip()\n",
    "            print(channels)\n",
    "        except:\n",
    "            print(\"\")\n"
   ]
  }
 ],
 "metadata": {
  "kernelspec": {
   "display_name": "Python 3 (ipykernel)",
   "language": "python",
   "name": "python3"
  },
  "language_info": {
   "codemirror_mode": {
    "name": "ipython",
    "version": 3
   },
   "file_extension": ".py",
   "mimetype": "text/x-python",
   "name": "python",
   "nbconvert_exporter": "python",
   "pygments_lexer": "ipython3",
   "version": "3.11.3"
  }
 },
 "nbformat": 4,
 "nbformat_minor": 5
}
