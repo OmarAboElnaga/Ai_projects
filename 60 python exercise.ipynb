{
 "cells": [
  {
   "cell_type": "markdown",
   "id": "759d04ba",
   "metadata": {},
   "source": [
    "**1-Write a Python program to calculate the length of a string using 2 ways"
   ]
  },
  {
   "cell_type": "code",
   "execution_count": 3,
   "id": "e434c950",
   "metadata": {},
   "outputs": [
    {
     "name": "stdout",
     "output_type": "stream",
     "text": [
      "5\n"
     ]
    }
   ],
   "source": [
    "str = \"Ahmed\"\n",
    "print(len(str))"
   ]
  },
  {
   "cell_type": "code",
   "execution_count": 4,
   "id": "7a2dfa32",
   "metadata": {},
   "outputs": [
    {
     "name": "stdout",
     "output_type": "stream",
     "text": [
      "5\n"
     ]
    }
   ],
   "source": [
    "counter = 0\n",
    "for i in str:\n",
    "    counter +=1\n",
    "print (counter)"
   ]
  },
  {
   "cell_type": "markdown",
   "id": "d7cc9da7",
   "metadata": {},
   "source": [
    "**2-Write a Python program to get a string made of the first 2 and last 2 characters of a given string. If the string length is less than 2, return the empty string instead (\"##Sample String : 'w3resource'\n",
    "Expected Result : 'w3ce'\n",
    "##Sample String : 'w3'\n",
    "Expected Result : 'w3w3'\n",
    "##Sample String : ' w'\n",
    "Expected Result : Empty String)"
   ]
  },
  {
   "cell_type": "code",
   "execution_count": 10,
   "id": "dafa9dd8",
   "metadata": {},
   "outputs": [
    {
     "name": "stdout",
     "output_type": "stream",
     "text": [
      "w3ce\n",
      "w3w3\n",
      "Empty String\n"
     ]
    }
   ],
   "source": [
    "def prg(word) :\n",
    "    if (len(word))> 2:\n",
    "        print(word[0] , end = \"\")\n",
    "        print(word[1], end = \"\")\n",
    "        print(word[-2], end = \"\")\n",
    "        print(word [-1] )\n",
    "              \n",
    "    if (len(word) == 2):\n",
    "        print(word, end = \"\")\n",
    "        print(word)\n",
    "    if (len(word) < 2):\n",
    "        print(\"Empty String\")\n",
    "\n",
    "sample1 = \"w3resource\"\n",
    "sample2 = \"w3\"\n",
    "sample3 = \"w\"\n",
    "prg(sample1)\n",
    "prg(sample2)\n",
    "prg(sample3)"
   ]
  },
  {
   "cell_type": "markdown",
   "id": "1534f956",
   "metadata": {},
   "source": [
    "**3-Write a Python program to add 'ing' at the end of a given string (length should be at least 3). If the given string already ends with 'ing', add 'ly' instead. If the string length of the given string is less than 3, leave it unchanged. (Sample String : 'abc'\n",
    "Expected Result : 'abcing')"
   ]
  },
  {
   "cell_type": "code",
   "execution_count": 15,
   "id": "7ff8cec4",
   "metadata": {
    "scrolled": false
   },
   "outputs": [
    {
     "name": "stdout",
     "output_type": "stream",
     "text": [
      "abcing\n"
     ]
    }
   ],
   "source": [
    "def add (word):\n",
    "    if (len(word) >= 3):\n",
    "        if (word[-3] == 'i' and word[-2] == 'n' and word[-1] == 'g'):\n",
    "            print(word + \"ly\")\n",
    "            #print( \"ly\")\n",
    "        else :\n",
    "            print(word + \"ing\")\n",
    "           # print(\"ing\")\n",
    "    if (len(word) < 3):\n",
    "        print(word)\n",
    "str = \"abc\"\n",
    "add(str)"
   ]
  },
  {
   "cell_type": "markdown",
   "id": "1c0a6627",
   "metadata": {},
   "source": [
    "**4-Write a Python function that takes a list of words and return the longest word and the length of the longest one\n",
    "(Longest word: Exercises\n",
    "Length of the longest word: 9)"
   ]
  },
  {
   "cell_type": "code",
   "execution_count": 33,
   "id": "397341d9",
   "metadata": {},
   "outputs": [
    {
     "name": "stdout",
     "output_type": "stream",
     "text": [
      "Mohammed\n",
      "8\n"
     ]
    }
   ],
   "source": [
    "lst = [\"ahmed\", \"youssef\", \"Mohammed\", \"Ibrahim\"]\n",
    "maximum = 0\n",
    "counter = 0\n",
    "for i in lst:\n",
    "    if len(i) >  counter :\n",
    "        maximum = i\n",
    "        counter = len(i)\n",
    "print(maximum)\n",
    "print(len(maximum))\n"
   ]
  },
  {
   "cell_type": "markdown",
   "id": "53a03a6a",
   "metadata": {},
   "source": [
    "**5-Write a Python program to change a given string to a newly string where the first and last chars have been exchanged using 2 ways (Sample String:abca  Expected Result:ebce)"
   ]
  },
  {
   "cell_type": "code",
   "execution_count": 41,
   "id": "fd327d2a",
   "metadata": {},
   "outputs": [
    {
     "name": "stdout",
     "output_type": "stream",
     "text": [
      "ebcde\n"
     ]
    }
   ],
   "source": [
    "N = \"abcda\"\n",
    "N = N.replace(\"a\" , \"e\")\n",
    "print(N)"
   ]
  },
  {
   "cell_type": "code",
   "execution_count": null,
   "id": "285788b4",
   "metadata": {},
   "outputs": [],
   "source": []
  },
  {
   "cell_type": "markdown",
   "id": "25f89808",
   "metadata": {},
   "source": [
    "**6-Write a Python program to remove characters that have odd index values in a given string (Sample String:abca Expected Result:ac)"
   ]
  },
  {
   "cell_type": "code",
   "execution_count": 47,
   "id": "05959bd7",
   "metadata": {},
   "outputs": [
    {
     "name": "stdout",
     "output_type": "stream",
     "text": [
      "ac\n"
     ]
    }
   ],
   "source": [
    "n = \"abca\"\n",
    "b = \"\"\n",
    "for i in range(0 , len(n) -1 ):\n",
    "    if (i % 2 ==0):\n",
    "        b += n[i]\n",
    "    else:\n",
    "        continue\n",
    "print(b)\n",
    "    "
   ]
  },
  {
   "cell_type": "markdown",
   "id": "eb16e898",
   "metadata": {},
   "source": [
    "**7-Write a Python program to count the occurrences of each word in a given sentence (Sample String:amr and ahmed are frindes but amr is the tallest Expected Result:2)"
   ]
  },
  {
   "cell_type": "code",
   "execution_count": 56,
   "id": "01ce6cf5",
   "metadata": {},
   "outputs": [
    {
     "name": "stdout",
     "output_type": "stream",
     "text": [
      "2\n"
     ]
    }
   ],
   "source": [
    "st = \"amr and ahmed are frindes but amr is the tallest\"\n",
    "words = st.split()\n",
    "counter = 0\n",
    "for i in words:\n",
    "    if i == \"amr\":\n",
    "        counter += 1\n",
    "print(counter)"
   ]
  },
  {
   "cell_type": "markdown",
   "id": "4e8125f1",
   "metadata": {},
   "source": [
    "**8-Write a Python script that takes input from the user and displays that input back in upper and lower cases"
   ]
  },
  {
   "cell_type": "code",
   "execution_count": 57,
   "id": "66c8f778",
   "metadata": {},
   "outputs": [
    {
     "name": "stdout",
     "output_type": "stream",
     "text": [
      "OmaR\n",
      "omar\n",
      "OMAR\n"
     ]
    }
   ],
   "source": [
    "N = input(\"\")\n",
    "print(N.lower())\n",
    "print(N.upper())"
   ]
  },
  {
   "cell_type": "markdown",
   "id": "fcd68aa1",
   "metadata": {},
   "source": [
    "**9-Write a Python function to reverse a string if its length is a multiple of 4"
   ]
  },
  {
   "cell_type": "code",
   "execution_count": 41,
   "id": "0671a931",
   "metadata": {},
   "outputs": [
    {
     "name": "stdout",
     "output_type": "stream",
     "text": [
      "ganleoA ramO\n"
     ]
    }
   ],
   "source": [
    "name = \"Omar Aoelnag\"\n",
    "if (len(name)%4 == 0 ):\n",
    "    print(name[-1::-1])\n",
    "else: print(name)"
   ]
  },
  {
   "cell_type": "markdown",
   "id": "b577c68d",
   "metadata": {},
   "source": [
    "**10- Write a Python program to remove a newline in Python"
   ]
  },
  {
   "cell_type": "code",
   "execution_count": 68,
   "id": "e0c6525a",
   "metadata": {},
   "outputs": [
    {
     "name": "stdout",
     "output_type": "stream",
     "text": [
      "amr and ahmed are frindes but amr is the tallest  amr\n"
     ]
    }
   ],
   "source": [
    "st = \"amr and ahmed are frindes but amr is the tallest \\n\"\n",
    "st2 = \"amr\"\n",
    "st = st.replace(\"\\n\" , \"\")\n",
    "print(st ,st2)"
   ]
  },
  {
   "cell_type": "markdown",
   "id": "80db5ae0",
   "metadata": {},
   "source": [
    "**11-Write a Python program to check whether a string starts with specified characters"
   ]
  },
  {
   "cell_type": "code",
   "execution_count": 74,
   "id": "0cc4e03e",
   "metadata": {},
   "outputs": [
    {
     "name": "stdout",
     "output_type": "stream",
     "text": [
      "samer\n",
      "False\n"
     ]
    }
   ],
   "source": [
    "N = input(\"\")\n",
    "vowels = \"AEIOUaeiou\"\n",
    "if (N[0] in vowels):\n",
    "    flag = True\n",
    "else:\n",
    "        flag = False\n",
    "print(flag)"
   ]
  },
  {
   "cell_type": "markdown",
   "id": "593a68db",
   "metadata": {},
   "source": [
    "**12- Write a Python program to add prefix text to all of the lines in a string"
   ]
  },
  {
   "cell_type": "code",
   "execution_count": 85,
   "id": "d2e46ada",
   "metadata": {},
   "outputs": [
    {
     "name": "stdout",
     "output_type": "stream",
     "text": [
      ">amr and ahmed are frindes but amr is the tallest\n",
      ">but amr is fatter\n",
      ">may be youssef is smarter than both\n"
     ]
    }
   ],
   "source": [
    "st = \"amr and ahmed are frindes but amr is the tallest\\nbut amr is fatter\\nmay be youssef is smarter than both\"\n",
    "st = st.split(\"\\n\")\n",
    "for i in st:\n",
    "    print(\">\" + i)\n",
    "\n",
    "\n"
   ]
  },
  {
   "cell_type": "markdown",
   "id": "86fa1543",
   "metadata": {},
   "source": [
    "**13-Write a Python program to print the following numbers up to 2 decimal places"
   ]
  },
  {
   "cell_type": "code",
   "execution_count": 98,
   "id": "cd4a9d89",
   "metadata": {},
   "outputs": [
    {
     "name": "stdout",
     "output_type": "stream",
     "text": [
      "15.57\n"
     ]
    }
   ],
   "source": [
    "N = 15.5656\n",
    "N = round(N , 2)\n",
    "print(N)"
   ]
  },
  {
   "cell_type": "markdown",
   "id": "452c0ab0",
   "metadata": {},
   "source": [
    "**14-Write a Python program to print the following numbers up to 2 decimal places with a sign"
   ]
  },
  {
   "cell_type": "code",
   "execution_count": 114,
   "id": "73e82479",
   "metadata": {},
   "outputs": [],
   "source": [
    "N = \"15.555555\"\n",
    "words = N.split(\".\")\n",
    "if (len(words[1]) <= 2):\n",
    "    print(\">\" + N)\n"
   ]
  },
  {
   "cell_type": "markdown",
   "id": "32b1811a",
   "metadata": {},
   "source": [
    "**15-Write a Python program to display a number with a comma separator"
   ]
  },
  {
   "cell_type": "code",
   "execution_count": 87,
   "id": "f30fc0b6",
   "metadata": {},
   "outputs": [
    {
     "name": "stdout",
     "output_type": "stream",
     "text": [
      "7,676\n"
     ]
    }
   ],
   "source": [
    "n = \"7.676\"\n",
    "n = n.replace(\".\", \",\")\n",
    "print(n)"
   ]
  },
  {
   "cell_type": "markdown",
   "id": "0477f487",
   "metadata": {},
   "source": [
    "**16-Write a Python program to reverse a string using 2 ways"
   ]
  },
  {
   "cell_type": "code",
   "execution_count": 91,
   "id": "aa8beec8",
   "metadata": {},
   "outputs": [
    {
     "name": "stdout",
     "output_type": "stream",
     "text": [
      "ramO\n"
     ]
    }
   ],
   "source": [
    "N = \"Omar\"\n",
    "print(N[-1::-1])\n"
   ]
  },
  {
   "cell_type": "markdown",
   "id": "5afc3166",
   "metadata": {},
   "source": [
    " **17-Write a Python program to count repeated characters in a string (hint:use dictionary)"
   ]
  },
  {
   "cell_type": "code",
   "execution_count": 120,
   "id": "515a469c",
   "metadata": {},
   "outputs": [
    {
     "name": "stdout",
     "output_type": "stream",
     "text": [
      "{'A': 2, 'B': 2, 'C': 1, 'E': 1, 'R': 1, 'Y': 1, 'T': 1, 'D': 1}\n"
     ]
    }
   ],
   "source": [
    "A = \"ABCABERYTD\"\n",
    "B = {}\n",
    "for letter in A : \n",
    "    if (letter in B):\n",
    "        B[letter] += 1\n",
    "    else:\n",
    "        B[letter] = 1\n",
    "print(B)\n"
   ]
  },
  {
   "cell_type": "markdown",
   "id": "ae14e4e5",
   "metadata": {},
   "source": [
    "**18-Write a Python program to find the first non-repeating character in a given string"
   ]
  },
  {
   "cell_type": "code",
   "execution_count": 134,
   "id": "d73778e5",
   "metadata": {},
   "outputs": [
    {
     "name": "stdout",
     "output_type": "stream",
     "text": [
      "f\n"
     ]
    }
   ],
   "source": [
    "N =\"geeksforgeeks\"\n",
    "flag = False\n",
    "for i in N:\n",
    "    if flag == False :\n",
    "        if (N.count(i) == 1):\n",
    "            flag = True\n",
    "            print(i)\n",
    "            \n",
    "        else: flag = False"
   ]
  },
  {
   "cell_type": "markdown",
   "id": "3adf5669",
   "metadata": {},
   "source": [
    "**19-Write a Python program to remove spaces from a given string"
   ]
  },
  {
   "cell_type": "code",
   "execution_count": 135,
   "id": "b4f22602",
   "metadata": {},
   "outputs": [
    {
     "name": "stdout",
     "output_type": "stream",
     "text": [
      "OmarMohammedMossaad\n"
     ]
    }
   ],
   "source": [
    "N = \" Omar Mohammed Mossaad \"\n",
    "N = N.replace(\" \" , '')\n",
    "print(N)"
   ]
  },
  {
   "cell_type": "markdown",
   "id": "734de60c",
   "metadata": {},
   "source": [
    "**20-Write a Python program to count the number of non-empty substrings of a given string"
   ]
  },
  {
   "cell_type": "code",
   "execution_count": 140,
   "id": "ef3f2274",
   "metadata": {},
   "outputs": [
    {
     "name": "stdout",
     "output_type": "stream",
     "text": [
      "10.0\n"
     ]
    }
   ],
   "source": [
    "N = \"abcd\"\n",
    "n = len(N)\n",
    "e = n*(n+1)/2 \n",
    "print(e)"
   ]
  },
  {
   "cell_type": "markdown",
   "id": "509998e2",
   "metadata": {},
   "source": [
    "**21-write a Python program to swap first and last element of any list."
   ]
  },
  {
   "cell_type": "code",
   "execution_count": 137,
   "id": "68692d7f",
   "metadata": {},
   "outputs": [
    {
     "name": "stdout",
     "output_type": "stream",
     "text": [
      "['rabea', 'Yousef', 'Ibrahim ', 'Omar']\n"
     ]
    }
   ],
   "source": [
    "l = [\"Omar\" , \"Yousef\" , \"Ibrahim \" , \"rabea\"]\n",
    "l[0] , l[-1] = l[-1] , l[0]\n",
    "print(l)"
   ]
  },
  {
   "cell_type": "markdown",
   "id": "959e0837",
   "metadata": {},
   "source": [
    "**22-Given a list in Python and provided the positions of the elements, write a program to swap the two elements in the list. (Input : List = [23, 65, 19, 90], pos1 = 1, pos2 = 3\n",
    "Output : [19, 65, 23, 90])"
   ]
  },
  {
   "cell_type": "code",
   "execution_count": 142,
   "id": "225d8c6d",
   "metadata": {},
   "outputs": [
    {
     "name": "stdout",
     "output_type": "stream",
     "text": [
      "['Omar', 'rabea', 'Ibrahim ', 'Yousef']\n"
     ]
    }
   ],
   "source": [
    "def swap(l , pos1 , pos2):\n",
    "    l[pos1-1] , l[pos2-1] = l[pos2-1] , l[pos1-1]\n",
    "    return l\n",
    "l = [\"Omar\" , \"Yousef\" , \"Ibrahim \" , \"rabea\"]\n",
    "print(swap(l , 2 , 4))"
   ]
  },
  {
   "cell_type": "markdown",
   "id": "66fc6682",
   "metadata": {},
   "source": [
    "**23- search for the all ways to know the length of the list"
   ]
  },
  {
   "cell_type": "code",
   "execution_count": 144,
   "id": "cbb5c9aa",
   "metadata": {},
   "outputs": [
    {
     "name": "stdout",
     "output_type": "stream",
     "text": [
      "4\n",
      "4\n"
     ]
    }
   ],
   "source": [
    "l = [\"Omar\" , \"Yousef\" , \"Ibrahim \" , \"rabea\"]\n",
    "counter = 0 \n",
    "print(len(l))\n",
    "for i in l:\n",
    "    counter += 1\n",
    "print(counter)"
   ]
  },
  {
   "cell_type": "code",
   "execution_count": null,
   "id": "63ff8b43",
   "metadata": {},
   "outputs": [],
   "source": [
    "**24-write a Python code to find the Maximum number of list of numbers."
   ]
  },
  {
   "cell_type": "code",
   "execution_count": 146,
   "id": "15f342de",
   "metadata": {},
   "outputs": [
    {
     "name": "stdout",
     "output_type": "stream",
     "text": [
      "44\n"
     ]
    }
   ],
   "source": [
    "l = [1 , 5 , 8, 3 ,8 ,10 , 9 , 44, -1]\n",
    "l.sort()\n",
    "print(l[-1])"
   ]
  },
  {
   "cell_type": "code",
   "execution_count": null,
   "id": "1a89b9d3",
   "metadata": {},
   "outputs": [],
   "source": [
    "**25-write a Python code to find the Minimum number of list of numbers."
   ]
  },
  {
   "cell_type": "code",
   "execution_count": 148,
   "id": "21f8cbd6",
   "metadata": {},
   "outputs": [
    {
     "name": "stdout",
     "output_type": "stream",
     "text": [
      "-1\n"
     ]
    }
   ],
   "source": [
    "l = [1 , 5 , 8, 3 ,8 ,10 , 9 , 44, -1]\n",
    "l.sort()\n",
    "print(l[0])"
   ]
  },
  {
   "cell_type": "markdown",
   "id": "96822d96",
   "metadata": {},
   "source": [
    "**26-search for if an elem is existing in list"
   ]
  },
  {
   "cell_type": "code",
   "execution_count": 149,
   "id": "51ca5c9a",
   "metadata": {},
   "outputs": [
    {
     "name": "stdout",
     "output_type": "stream",
     "text": [
      "True\n"
     ]
    }
   ],
   "source": [
    "l = [1 , 5 , 8, 3 ,8 ,10 , 9 , 44, -1]\n",
    "for i in l:\n",
    "    if i == 5:\n",
    "        flag == True\n",
    "print(flag)"
   ]
  },
  {
   "cell_type": "markdown",
   "id": "d9557da7",
   "metadata": {},
   "source": [
    "**27- clear python list using different ways"
   ]
  },
  {
   "cell_type": "code",
   "execution_count": 5,
   "id": "7fd99fb3",
   "metadata": {},
   "outputs": [
    {
     "name": "stdout",
     "output_type": "stream",
     "text": [
      "[]\n"
     ]
    }
   ],
   "source": [
    "l = [1 , 5 , 8, 3 ,8 ,10 , 9 , 44, -1]\n",
    "while(len(l) != 0):\n",
    "    l.pop()\n",
    "print(l)"
   ]
  },
  {
   "cell_type": "code",
   "execution_count": 6,
   "id": "bf8c5d66",
   "metadata": {
    "scrolled": false
   },
   "outputs": [
    {
     "name": "stdout",
     "output_type": "stream",
     "text": [
      "[]\n"
     ]
    }
   ],
   "source": []
  },
  {
   "cell_type": "code",
   "execution_count": 151,
   "id": "b69858a3",
   "metadata": {},
   "outputs": [
    {
     "name": "stdout",
     "output_type": "stream",
     "text": [
      "[]\n"
     ]
    }
   ],
   "source": [
    "l = [1 , 5 , 8, 3 ,8 ,10 , 9 , 44, -1]\n",
    "l.clear()\n",
    "print(l)"
   ]
  },
  {
   "cell_type": "markdown",
   "id": "52160e88",
   "metadata": {},
   "source": [
    "**28-remove duplicated elements from a list"
   ]
  },
  {
   "cell_type": "code",
   "execution_count": 14,
   "id": "5e362228",
   "metadata": {},
   "outputs": [
    {
     "name": "stdout",
     "output_type": "stream",
     "text": [
      "{3, 5, 8, 9, 10, 44, -1}\n"
     ]
    }
   ],
   "source": [
    "l = [3 , 5 , 8, 3 ,8 ,10 , 9 , 44, -1 , 9]\n",
    "l = set(l)\n",
    "print(l)\n",
    "        \n",
    "        "
   ]
  },
  {
   "cell_type": "markdown",
   "id": "282337f7",
   "metadata": {},
   "source": [
    "**29-Given list values and keys list, convert these values to key value pairs in form of list of dictionaries. (Input : test_list = [“Gfg”, 3, “is”, 8], key_list = [“name”, “id”]\n",
    "Output : [{‘name’: ‘Gfg’, ‘id’: 3}, {‘name’: ‘is’, ‘id’: 8}])"
   ]
  },
  {
   "cell_type": "code",
   "execution_count": 26,
   "id": "4d4e2d28",
   "metadata": {},
   "outputs": [
    {
     "name": "stdout",
     "output_type": "stream",
     "text": [
      "[{'Name': 'Gfg'}, {'id': 3}, {'Name': 'is'}, {'id': 8}]\n"
     ]
    }
   ],
   "source": [
    "l = [\"Gfg\" , 3 , \"is\" ,8]\n",
    "key = [\"Name\" , \"id\"]\n",
    "l2 = []\n",
    "Dict = {}\n",
    "for x in range(len(l)):\n",
    "    if (x%2 == 0):\n",
    "        l2.append({key[0] : l[x]})\n",
    "    else:\n",
    "        l2.append({key[1] : l[x]})\n",
    "print(l2)"
   ]
  },
  {
   "cell_type": "markdown",
   "id": "c26b6e9f",
   "metadata": {},
   "source": [
    "**30-write a python program to count unique values inside a list using different ways"
   ]
  },
  {
   "cell_type": "code",
   "execution_count": 28,
   "id": "72132667",
   "metadata": {},
   "outputs": [
    {
     "name": "stdout",
     "output_type": "stream",
     "text": [
      "7\n"
     ]
    }
   ],
   "source": [
    "l = [1 , 2 , 2 , 3 , 4 , 4 , 5, 4 ,-1 , 0,5]\n",
    "l2 = []\n",
    "counter = 0\n",
    "for i in l:\n",
    "    if i not in l2:\n",
    "        l2.append(i)\n",
    "        counter += 1\n",
    "    \n",
    "print(counter)"
   ]
  },
  {
   "cell_type": "markdown",
   "id": "fed6677c",
   "metadata": {},
   "source": [
    "**31-write a python program Extract all elements with Frequency greater than K (Input : test_list = [4, 6, 4, 3, 3, 4, 3, 4, 3, 8], K = 3 \n",
    "Output : [4, 3] )"
   ]
  },
  {
   "cell_type": "code",
   "execution_count": 10,
   "id": "d81f3f9d",
   "metadata": {},
   "outputs": [
    {
     "name": "stdout",
     "output_type": "stream",
     "text": [
      "[4, 3]\n"
     ]
    }
   ],
   "source": [
    "list = [4, 6, 4, 3,3,4,3,4,3,8 ,8,6]\n",
    "repeatition = 0\n",
    "New_list = []\n",
    "k = 2\n",
    "for i in list:\n",
    "    repeatition = list.count(i)\n",
    "    if (repeatition > k ):\n",
    "        if(i in New_list):\n",
    "            continue \n",
    "        else:\n",
    "            New_list.append(i)\n",
    "\n",
    "print(New_list)\n",
    "        "
   ]
  },
  {
   "cell_type": "markdown",
   "id": "caca5224",
   "metadata": {},
   "source": [
    "**32-write a python program to find the Strongest Neighbour (Input: 1 2 2 3 4 5\n",
    "Output: 2 2 3 4 5)"
   ]
  },
  {
   "cell_type": "code",
   "execution_count": null,
   "id": "39fbd9b2",
   "metadata": {},
   "outputs": [],
   "source": []
  },
  {
   "cell_type": "markdown",
   "id": "a9fa8baf",
   "metadata": {},
   "source": [
    "**33-write a Python Program to print all Possible Combinations from the three Digits (Input: [1, 2, 3]\n",
    "Output:\n",
    "1 2 3 ##\n",
    "1 3 2 ##\n",
    "2 1 3 ##\n",
    "2 3 1 ##\n",
    "3 1 2 ##\n",
    "3 2 1)"
   ]
  },
  {
   "cell_type": "code",
   "execution_count": 9,
   "id": "8c520a76",
   "metadata": {
    "scrolled": true
   },
   "outputs": [
    {
     "name": "stdout",
     "output_type": "stream",
     "text": [
      "1 2 3\n",
      "1 3 2\n",
      "2 1 3\n",
      "2 3 1\n",
      "3 1 2\n",
      "3 2 1\n"
     ]
    }
   ],
   "source": [
    "def comb(L):\n",
    "    for i in range(3):\n",
    "        for j in range(3):\n",
    "            for k in range(3):\n",
    "                if (i != j and j != k and i != k ):\n",
    "                    print(L[i],L[j],L[k])\n",
    "comb([1,2,3])\n",
    "\n",
    "    "
   ]
  },
  {
   "cell_type": "markdown",
   "id": "5288bb89",
   "metadata": {},
   "source": [
    "**34-write a Python program to find all the Combinations in the list with the given condition (Input: test_list = [1,2,3] \n",
    "Output: \n",
    " [1], [1, 2], [1, 2, 3], [1, 3]\n",
    " [2], [2, 3], [3])"
   ]
  },
  {
   "cell_type": "code",
   "execution_count": 35,
   "id": "59b89646",
   "metadata": {},
   "outputs": [
    {
     "name": "stdout",
     "output_type": "stream",
     "text": [
      "[[1], [1, 2], [1, 3], [2], [2, 3], [3], [1, 2, 3]]\n"
     ]
    }
   ],
   "source": [
    "l = [1 , 2 ,3]\n",
    "x = []\n",
    "for i in l: \n",
    "    for v in l:\n",
    "        if (v == i):\n",
    "            x.append([v])\n",
    "        else:\n",
    "            added = [v,i]\n",
    "            added.sort()\n",
    "            if(added not in x):\n",
    "                x.append(added)\n",
    "                \n",
    "x.append(l)\n",
    "print(x)"
   ]
  },
  {
   "cell_type": "markdown",
   "id": "39973705",
   "metadata": {},
   "source": [
    "**35-write a Python program to get all unique combinations of two Lists (List_1 = [\"a\",\"b\"]\n",
    "List_2 = [1,2]\n",
    "Unique_combination = [[('a',1),('b',2)],[('a',2),('b',1)]] )"
   ]
  },
  {
   "cell_type": "code",
   "execution_count": 21,
   "id": "8c4ba22b",
   "metadata": {},
   "outputs": [
    {
     "name": "stdout",
     "output_type": "stream",
     "text": [
      "a 1\n",
      "a 2\n",
      "b 1\n",
      "b 2\n"
     ]
    }
   ],
   "source": [
    "list_1 = ['a' , 'b' ]\n",
    "list_2 = [1 , 2  ]\n",
    "def comb(L1,L2):\n",
    "    for i in range (2):\n",
    "        for j in range(2):\n",
    "            \n",
    "            print(L1[i],L2[j])\n",
    "comb(list_1, list_2)\n",
    "    "
   ]
  },
  {
   "cell_type": "markdown",
   "id": "25199af5",
   "metadata": {},
   "source": [
    "**36-Remove all the occurrences of an element from a list in Python (Input : 1 1 2 3 4 5 1 2 1 \n",
    "\n",
    "**Output : 2 3 4 5 2)"
   ]
  },
  {
   "cell_type": "code",
   "execution_count": 31,
   "id": "6dc4c2ba",
   "metadata": {},
   "outputs": [
    {
     "name": "stdout",
     "output_type": "stream",
     "text": [
      "[2, 3, 4, 5, 2, 1]\n"
     ]
    }
   ],
   "source": [
    "list = [1, 1 , 2 ,3 ,4, 5 , 1 ,2, 1]\n",
    "k = 1\n",
    "for i in list:\n",
    "    if i == 1 :\n",
    "        list.remove(1)\n",
    "print(list)"
   ]
  },
  {
   "cell_type": "markdown",
   "id": "bf1a3c93",
   "metadata": {},
   "source": [
    "**37-write a python program to Replace index elements with elements in Other List (The original list 1 is : [‘Gfg’, ‘is’, ‘best’] The original list 2 is : [0, 1, 2, 1, 0, 0, 0, 2, 1, 1, 2, 0] The lists after index elements replacements is : [‘Gfg’, ‘is’, ‘best’, ‘is’, ‘Gfg’, ‘Gfg’, ‘Gfg’, ‘best’, ‘is’, ‘is’, ‘best’, ‘Gfg’])"
   ]
  },
  {
   "cell_type": "code",
   "execution_count": 23,
   "id": "fdd66a71",
   "metadata": {
    "scrolled": true
   },
   "outputs": [
    {
     "name": "stdout",
     "output_type": "stream",
     "text": [
      "['Gfg', 'is', 'best', 'is', 'Gfg', 'Gfg', 'Gfg', 'best', 'is', 'is', 'best', 'Gfg']\n"
     ]
    }
   ],
   "source": [
    "l1 = [\"Gfg\" , 'is' , 'best']\n",
    "l2 = [0 ,1 , 2 , 1 , 0 , 0 , 0 , 2 ,1 , 1, 2 ,0]\n",
    "l3 = []\n",
    "for i in l2:\n",
    "    l3.append(l1[i])\n",
    "print(l3)"
   ]
  },
  {
   "cell_type": "markdown",
   "id": "af0f56e8",
   "metadata": {},
   "source": [
    "**38- write python program to Retain records with N occurrences of K(Input : test_list = [(4, 5, 5, 4), (5, 4, 3)], K = 5, N = 2 \n",
    "Output : [(4, 5, 5, 4)]\n",
    "Input : test_list = [(4, 5, 5, 4), (5, 4, 3)], K = 5, N = 3 \n",
    "Output : [] )"
   ]
  },
  {
   "cell_type": "code",
   "execution_count": 34,
   "id": "67b06671",
   "metadata": {},
   "outputs": [
    {
     "name": "stdout",
     "output_type": "stream",
     "text": [
      "3\n",
      "5\n",
      "[]\n"
     ]
    }
   ],
   "source": [
    "test_list = [(4,5,5,4), (5,4,3)]\n",
    "counter = 0\n",
    "ol = []\n",
    "N = input(\"\")\n",
    "K = input(\"\")\n",
    "for  i in test_list:\n",
    "    j = i.count(int(K))\n",
    "    if j == int(N):\n",
    "        ol.append(i)\n",
    "print(ol)"
   ]
  },
  {
   "cell_type": "markdown",
   "id": "de76f183",
   "metadata": {},
   "source": [
    "**39-write a Python Program to Sort the list according to the column using lambda\n",
    "array = [[1, 3, 3], [2, 1, 2], [3, 2, 1]]\n",
    "Output :\n",
    "Sorted array specific to column 0, [[1, 3, 3], [2, 1, 2], [3, 2, 1]]\n",
    "Sorted array specific to column 1, [[2, 1, 2], [3, 2, 1], [1, 3, 3]]\n",
    "Sorted array specific to column 2, [[3, 2, 1], [2, 1, 2], [1, 3, 3]]"
   ]
  },
  {
   "cell_type": "code",
   "execution_count": 32,
   "id": "dc883308",
   "metadata": {},
   "outputs": [
    {
     "name": "stdout",
     "output_type": "stream",
     "text": [
      "Sorted array specific to column 1 [(1, 3, 3), (2, 1, 2), (3, 2, 1)]\n",
      "Sorted array specific to column 2 [(2, 1, 2), (3, 2, 1), (1, 3, 3)]\n",
      "Sorted array specific to column 3 [(3, 2, 1), (2, 1, 2), (1, 3, 3)]\n"
     ]
    }
   ],
   "source": [
    "lst = [(1,3,3) , (2,1,2) , (3,2,1)]\n",
    "for i in range(len(lst)):\n",
    "    sorted_array =sorted(lst, key = lambda x : x[i])\n",
    "    print(\"Sorted array specific to column\",i+1 , sorted_array)"
   ]
  },
  {
   "cell_type": "code",
   "execution_count": null,
   "id": "d2e7b31f",
   "metadata": {},
   "outputs": [],
   "source": [
    "**40- write a program to Sort Python Dictionaries by Key or Value\n",
    "Input:\n",
    "{'ravi': 10, 'rajnish': 9, 'sanjeev': 15, 'yash': 2, 'suraj': 32}\n",
    "\n",
    "Output: \n",
    "{'rajnish': 9, 'ravi': 10, 'sanjeev': 15, 'suraj': 32, 'yash': 2}"
   ]
  },
  {
   "cell_type": "code",
   "execution_count": 11,
   "id": "a96db4a0",
   "metadata": {},
   "outputs": [
    {
     "name": "stdout",
     "output_type": "stream",
     "text": [
      "{'rajnish': 9, 'ravi': 10, 'sanjeev': 15, 'suraj': 32, 'yash': 2}\n"
     ]
    }
   ],
   "source": [
    "inp = {'ravi' : 10 ,'rajnish': 9, 'sanjeev': 15, 'yash': 2, 'suraj': 32 }\n",
    "inp2 = {}\n",
    "my_keys = list(inp.keys())\n",
    "my_keys.sort()\n",
    "for i in my_keys:\n",
    "    inp2[i] = inp[i]\n",
    "print(inp2)"
   ]
  },
  {
   "cell_type": "code",
   "execution_count": 79,
   "id": "f09547cd",
   "metadata": {},
   "outputs": [
    {
     "name": "stdout",
     "output_type": "stream",
     "text": [
      "{'yash': 2, 'rajnish': 9, 'ravi': 10, 'sanjeev': 15, 'suraj': 32}\n"
     ]
    }
   ],
   "source": [
    "inp = {'ravi' : 10 ,'rajnish': 9, 'sanjeev': 15, 'yash': 2, 'suraj': 32 }\n",
    "inp2 = {}\n",
    "l = list(inp.values())\n",
    "v = list(inp.keys())\n",
    "l.sort()\n",
    "\n",
    "for n in l:\n",
    "    for i in v :\n",
    "        if inp[i] == n:\n",
    "            inp2[i] = n\n",
    "print(inp2)"
   ]
  },
  {
   "cell_type": "markdown",
   "id": "ec63c23a",
   "metadata": {},
   "source": [
    "**41-write python program to Remove keys with Values Greater than K ( Including mixed values )\n",
    "nput : test_dict = {‘Gfg’ : 3, ‘is’ : 7, ‘best’ : 10, ‘for’ : 6, ‘geeks’ : ‘CS’},\n",
    "K = 7 \n",
    "Output : {‘Gfg’ : 3, ‘for’ : 6, ‘geeks’ : ‘CS’}"
   ]
  },
  {
   "cell_type": "code",
   "execution_count": 35,
   "id": "e39c3a40",
   "metadata": {},
   "outputs": [
    {
     "name": "stdout",
     "output_type": "stream",
     "text": [
      "7\n",
      "{'Gfg': 3, 'for': 6, 'geeks': 'CS'}\n"
     ]
    }
   ],
   "source": [
    "test_dict = {\"Gfg\" : 3, \"is\" : 7, \"best\" : 10, \"for\" : 6 , 'geeks' : 'CS'}\n",
    "k = input(\"\")\n",
    "l = list(test_dict.keys())\n",
    "for i in l:\n",
    "    try:\n",
    "        if (test_dict[i] >= int(k)):\n",
    "            del test_dict[i]\n",
    "    except:\n",
    "        continue\n",
    "print(test_dict)"
   ]
  },
  {
   "cell_type": "markdown",
   "id": "f143f0fe",
   "metadata": {},
   "source": [
    "**42-Write a Python program to concatenate the following dictionaries to create a new one\n",
    "\n",
    "Sample Dictionary :\n",
    "dic1={1:10, 2:20}\n",
    "dic2={3:30, 4:40}\n",
    "dic3={5:50,6:60}\n",
    "Expected Result : {1: 10, 2: 20, 3: 30, 4: 40, 5: 50, 6: 60}"
   ]
  },
  {
   "cell_type": "code",
   "execution_count": 46,
   "id": "74ffdfea",
   "metadata": {},
   "outputs": [
    {
     "name": "stdout",
     "output_type": "stream",
     "text": [
      "{1: 10, 2: 20, 3: 30, 4: 40, 5: 50, 6: 60}\n"
     ]
    }
   ],
   "source": [
    "dic1={1:10, 2:20}\n",
    "dic2={3:30, 4:40}\n",
    "dic3={5:50,6:60}\n",
    "def merg (d1 , d2 , d3):\n",
    "    d1.update(d2)\n",
    "    d1.update(d3)\n",
    "    return d1\n",
    "print(merg(dic1, dic2 , dic3))"
   ]
  },
  {
   "cell_type": "markdown",
   "id": "fb04c93c",
   "metadata": {},
   "source": [
    "**43-Write a Python program to iterate over dictionaries using for loops"
   ]
  },
  {
   "cell_type": "code",
   "execution_count": 53,
   "id": "6aebc470",
   "metadata": {},
   "outputs": [
    {
     "name": "stdout",
     "output_type": "stream",
     "text": [
      "Gfg\n",
      "3\n",
      "is\n",
      "7\n",
      "best\n",
      "10\n",
      "for\n",
      "6\n",
      "geeks\n",
      "CS\n"
     ]
    }
   ],
   "source": [
    "test_dict = {\"Gfg\" : 3, \"is\" : 7, \"best\" : 10, \"for\" : 6 , 'geeks' : 'CS'}\n",
    "for i , x in test_dict.items():\n",
    "    print(i)\n",
    "    print(x)"
   ]
  },
  {
   "cell_type": "markdown",
   "id": "5f491a9d",
   "metadata": {},
   "source": [
    "**44- Write a Python script to merge two Python dictionaries"
   ]
  },
  {
   "cell_type": "code",
   "execution_count": 57,
   "id": "b8a14028",
   "metadata": {},
   "outputs": [
    {
     "name": "stdout",
     "output_type": "stream",
     "text": [
      "{1: 10, 2: 20, 3: 30, 4: 40}\n"
     ]
    }
   ],
   "source": [
    "dic1={1:10, 2:20}\n",
    "dic2={3:30, 4:40}\n",
    "def merg(d1 , d2):\n",
    "    d1.update(d2)\n",
    "    return d1\n",
    "print(merg(dic1 , dic2))"
   ]
  },
  {
   "cell_type": "markdown",
   "id": "216fc72d",
   "metadata": {},
   "source": [
    "**45-Write a Python program to get the maximum and minimum values of a dictionary values"
   ]
  },
  {
   "cell_type": "code",
   "execution_count": 58,
   "id": "d6883f5f",
   "metadata": {},
   "outputs": [
    {
     "name": "stdout",
     "output_type": "stream",
     "text": [
      "2\n",
      "32\n"
     ]
    }
   ],
   "source": [
    "dict = {'ravi': 10, 'rajnish': 9, 'sanjeev': 15, 'yash': 2, 'suraj': 32}\n",
    "l = list(dict.values())\n",
    "l.sort()\n",
    "print(l[0])\n",
    "print(l[-1])"
   ]
  },
  {
   "cell_type": "markdown",
   "id": "b6a53011",
   "metadata": {},
   "source": [
    "**46- Write a Python program to drop empty items from a given dictionary.\n",
    "Original Dictionary:\n",
    "{'c1': 'Red', 'c2': 'Green', 'c3': None}\n",
    "New Dictionary after dropping empty items:\n",
    "{'c1': 'Red', 'c2': 'Green'}"
   ]
  },
  {
   "cell_type": "code",
   "execution_count": 69,
   "id": "b5c6fecf",
   "metadata": {},
   "outputs": [
    {
     "name": "stdout",
     "output_type": "stream",
     "text": [
      "{'c1': 'Red', 'c2': 'Green'}\n"
     ]
    }
   ],
   "source": [
    "dict = {'c1': \"Red\", 'c2': 'Green', 'c3': None}\n",
    "l = list(dict.keys())\n",
    "for i in l :\n",
    "    if (dict[i] == None):\n",
    "        del dict[i]\n",
    "print(dict)"
   ]
  },
  {
   "cell_type": "markdown",
   "id": "46d718c7",
   "metadata": {},
   "source": [
    "**47-Write a Python program to create a tuple of numbers and print one item"
   ]
  },
  {
   "cell_type": "code",
   "execution_count": 1,
   "id": "13216ff5",
   "metadata": {
    "scrolled": true
   },
   "outputs": [
    {
     "name": "stdout",
     "output_type": "stream",
     "text": [
      "3\n"
     ]
    }
   ],
   "source": [
    "tp = (1 , 3 , 5 ,6 )\n",
    "l = list(tp)\n",
    "print(l[1])"
   ]
  },
  {
   "cell_type": "markdown",
   "id": "2be5b56b",
   "metadata": {},
   "source": [
    "**48-Write a Python program to unpack a tuple into several variables"
   ]
  },
  {
   "cell_type": "code",
   "execution_count": 2,
   "id": "595f44be",
   "metadata": {},
   "outputs": [
    {
     "name": "stdout",
     "output_type": "stream",
     "text": [
      "Ahmed\n"
     ]
    }
   ],
   "source": [
    "tp = (15 , \"Ahmed\" , 90)\n",
    "l = list(tp)\n",
    "Age = l[0]\n",
    "name = l[1]\n",
    "Grade = l[2]"
   ]
  },
  {
   "cell_type": "markdown",
   "id": "392388a7",
   "metadata": {},
   "source": [
    "**49-Write a Python program to add an item to a tuple"
   ]
  },
  {
   "cell_type": "code",
   "execution_count": 4,
   "id": "54cc092e",
   "metadata": {},
   "outputs": [
    {
     "name": "stdout",
     "output_type": "stream",
     "text": [
      "Mohammed\n",
      "('Ahmed', 'Youssef', 'Ibrahim', 'Mohammed')\n"
     ]
    }
   ],
   "source": [
    "tp = (\"Ahmed\" , \"Youssef\" , \"Ibrahim\")\n",
    "l = list(tp)\n",
    "l.append(input(\"\"))\n",
    "tp = tuple(l)\n",
    "print(tp)"
   ]
  },
  {
   "cell_type": "markdown",
   "id": "3e8fd124",
   "metadata": {},
   "source": [
    "**50-Write a Python program to convert a tuple to a string"
   ]
  },
  {
   "cell_type": "code",
   "execution_count": 15,
   "id": "92a71ddc",
   "metadata": {},
   "outputs": [
    {
     "name": "stdout",
     "output_type": "stream",
     "text": [
      "Omar\n"
     ]
    }
   ],
   "source": [
    "tp = ('O' , 'm' , 'a' , 'r')\n",
    "Name = \"\"\n",
    "name = list(tp)\n",
    "for i in name:\n",
    "    Name += i\n",
    "print(Name)"
   ]
  },
  {
   "cell_type": "markdown",
   "id": "f4f64ef4",
   "metadata": {},
   "source": [
    "**51-Write a Python program to convert a list to a tuple"
   ]
  },
  {
   "cell_type": "code",
   "execution_count": 17,
   "id": "210d56d3",
   "metadata": {},
   "outputs": [
    {
     "name": "stdout",
     "output_type": "stream",
     "text": [
      "tuple[['Omar', 'Mohammed', 'Ibrahim']]\n"
     ]
    }
   ],
   "source": [
    "lst = [\"Omar\" , \"Mohammed\" , \"Ibrahim\"]\n",
    "tup = tuple[lst]\n",
    "print(tup)"
   ]
  },
  {
   "cell_type": "markdown",
   "id": "b1e00ef7",
   "metadata": {},
   "source": [
    "**52-Write a Python program to reverse a tuple"
   ]
  },
  {
   "cell_type": "code",
   "execution_count": 19,
   "id": "f45bfdc7",
   "metadata": {},
   "outputs": [
    {
     "name": "stdout",
     "output_type": "stream",
     "text": [
      "['Ibrahim', 'Youssef', 'Ahmed']\n"
     ]
    }
   ],
   "source": [
    "tp = (\"Ahmed\" , \"Youssef\" , \"Ibrahim\")\n",
    "lst = list(tp)\n",
    "lst.reverse()\n",
    "print(lst)"
   ]
  },
  {
   "cell_type": "markdown",
   "id": "3cd347d1",
   "metadata": {},
   "source": [
    "**53-Write a Python program to replace the last value of tuples in a list.\n",
    "Sample list: [(10, 20, 40), (40, 50, 60), (70, 80, 90)]\n",
    "Expected Output: [(10, 20, 100), (40, 50, 100), (70, 80, 100)]"
   ]
  },
  {
   "cell_type": "code",
   "execution_count": 7,
   "id": "3c4a2a4c",
   "metadata": {},
   "outputs": [
    {
     "name": "stdout",
     "output_type": "stream",
     "text": [
      "[(10, 20, 100), (40, 50, 100), (70, 80, 100)]\n"
     ]
    }
   ],
   "source": [
    "lst = [(10, 20, 40), (40, 50, 60), (70, 80, 90)]\n",
    "f= []\n",
    "b= []\n",
    "for i in lst:\n",
    "    f.append(list(i))\n",
    "for x in range(3):\n",
    "    f[x][2] = 100\n",
    "for g in f:\n",
    "    b.append(tuple(g))\n",
    "print(b)"
   ]
  },
  {
   "cell_type": "markdown",
   "id": "ff5f3266",
   "metadata": {},
   "source": [
    "**54-Write a Python program to convert a given string list to a tuple\n",
    "Original string: python 3.0\n",
    "<class 'str'>\n",
    "Convert the said string to a tuple:\n",
    "('p', 'y', 't', 'h', 'o', 'n', '3', '.', '0')"
   ]
  },
  {
   "cell_type": "code",
   "execution_count": 10,
   "id": "51951937",
   "metadata": {},
   "outputs": [
    {
     "name": "stdout",
     "output_type": "stream",
     "text": [
      "('p', 'y', 't', 'h', 'o', 'n', '3', '.', '0')\n"
     ]
    }
   ],
   "source": [
    "lst = []\n",
    "name = \"python3.0\"\n",
    "for i in range(len(name)):\n",
    "    lst.append(name[i])\n",
    "tup = tuple(lst)\n",
    "print(tup)"
   ]
  },
  {
   "cell_type": "markdown",
   "id": "5a1d5d97",
   "metadata": {},
   "source": [
    "**55-Write a Python program to calculate the average value of the numbers in a given tuple of tuples"
   ]
  },
  {
   "cell_type": "code",
   "execution_count": 16,
   "id": "834e7992",
   "metadata": {},
   "outputs": [
    {
     "name": "stdout",
     "output_type": "stream",
     "text": [
      "55.4\n"
     ]
    }
   ],
   "source": [
    "tup = (50 , 60 , 55, 65 , 47)\n",
    "lst= list(tup)\n",
    "N = 0\n",
    "for i in lst:\n",
    "    N += i \n",
    "N = N/len(lst)\n",
    "print(N)"
   ]
  },
  {
   "cell_type": "markdown",
   "id": "51edab9c",
   "metadata": {},
   "source": [
    "**56-Write a Python program to add member(s) to a set."
   ]
  },
  {
   "cell_type": "code",
   "execution_count": 21,
   "id": "2b65df79",
   "metadata": {},
   "outputs": [
    {
     "name": "stdout",
     "output_type": "stream",
     "text": [
      "{3, 4, 5, 7, 10, 12}\n"
     ]
    }
   ],
   "source": [
    "st = {3 , 5  , 7 , 4 , 10}\n",
    "lst = list(st)\n",
    "lst.append(12)\n",
    "st = set(lst)\n",
    "print(st)"
   ]
  },
  {
   "cell_type": "markdown",
   "id": "965590cc",
   "metadata": {},
   "source": [
    "**57-Write a Python program to remove an item from a set if it is present in the set."
   ]
  },
  {
   "cell_type": "code",
   "execution_count": 29,
   "id": "866bab28",
   "metadata": {},
   "outputs": [
    {
     "name": "stdout",
     "output_type": "stream",
     "text": [
      "{3, 4, 5, 7, 25, 10}\n"
     ]
    }
   ],
   "source": [
    "st = {3 , 5  , 7 , 4 , 10 , 12 , 25}\n",
    "if 5 in st:\n",
    "    st.remove(12)\n",
    "print(st)"
   ]
  },
  {
   "cell_type": "markdown",
   "id": "2b7cfed1",
   "metadata": {},
   "source": [
    "**58-Write a Python program to create an intersection,union,difference and symmetric difference of sets"
   ]
  },
  {
   "cell_type": "code",
   "execution_count": 5,
   "id": "7f94b7fe",
   "metadata": {},
   "outputs": [
    {
     "name": "stdout",
     "output_type": "stream",
     "text": [
      "Union : {1, 2, 3, 5, 7, 8, 9}\n",
      "Intersection : {2, 7}\n",
      "difference : {8, 1, 5}\n",
      "Symmetric differences :{1, 3, 5, 8, 9}\n"
     ]
    }
   ],
   "source": [
    "set1 = {1 ,2 , 5 , 7 ,8 }\n",
    "set2 = {3 , 7  , 9 , 2}\n",
    "print(f\"Union : {set1 | set2}\")\n",
    "print(f\"Intersection : {set1 & set2}\")\n",
    "print(f\"difference : {set1 - set2}\")\n",
    "print(f\"Symmetric differences :{set1^set2}\")"
   ]
  },
  {
   "cell_type": "markdown",
   "id": "b94931e2",
   "metadata": {},
   "source": [
    "**59-Write a Python program to find the maximum and minimum values in a set"
   ]
  },
  {
   "cell_type": "code",
   "execution_count": 13,
   "id": "203f9600",
   "metadata": {},
   "outputs": [
    {
     "name": "stdout",
     "output_type": "stream",
     "text": [
      "-9 8\n"
     ]
    }
   ],
   "source": [
    "A = {1 , 6 , -4 , -9 , 8 }\n",
    "B = list(A)\n",
    "B.sort()\n",
    "print(B[0] , B[-1])\n"
   ]
  },
  {
   "cell_type": "markdown",
   "id": "255fd554",
   "metadata": {},
   "source": [
    "**60- Write a Python program that finds all pairs of elements in a list whose sum is equal to a given value."
   ]
  },
  {
   "cell_type": "code",
   "execution_count": 26,
   "id": "c2d94e1f",
   "metadata": {},
   "outputs": [
    {
     "name": "stdout",
     "output_type": "stream",
     "text": [
      "1 , 8 \n",
      "\n",
      "2 , 7 \n",
      "\n"
     ]
    }
   ],
   "source": [
    "A = [1,2 ,2 , 5 , 5 , 6 , 7 ,8 ]\n",
    "st = set(A)\n",
    "A = list(st)\n",
    "lst = []\n",
    "Target = 9\n",
    "for i in A:\n",
    "    for x in A:\n",
    "        if x != i:\n",
    "            if (x + i == Target):\n",
    "                if (x in lst or i in lst):\n",
    "                    continue\n",
    "                else:\n",
    "                    lst.append(i)\n",
    "                    lst.append(x)\n",
    "                    print(i,\",\",x , \"\\n\")\n",
    "        else:\n",
    "            continue"
   ]
  },
  {
   "cell_type": "code",
   "execution_count": null,
   "id": "84b3f69c",
   "metadata": {},
   "outputs": [],
   "source": []
  }
 ],
 "metadata": {
  "kernelspec": {
   "display_name": "Python 3 (ipykernel)",
   "language": "python",
   "name": "python3"
  },
  "language_info": {
   "codemirror_mode": {
    "name": "ipython",
    "version": 3
   },
   "file_extension": ".py",
   "mimetype": "text/x-python",
   "name": "python",
   "nbconvert_exporter": "python",
   "pygments_lexer": "ipython3",
   "version": "3.11.3"
  }
 },
 "nbformat": 4,
 "nbformat_minor": 5
}
